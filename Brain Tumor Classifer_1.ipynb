{
 "cells": [
  {
   "cell_type": "code",
   "execution_count": 1,
   "metadata": {},
   "outputs": [],
   "source": [
    "# To remove deprecated warnings from the tensorflow\n",
    "import warnings\n",
    "warnings.filterwarnings(\"ignore\")"
   ]
  },
  {
   "cell_type": "code",
   "execution_count": 2,
   "metadata": {},
   "outputs": [],
   "source": [
    "import os\n",
    "PATH = os.getcwd()"
   ]
  },
  {
   "cell_type": "code",
   "execution_count": 3,
   "metadata": {},
   "outputs": [],
   "source": [
    "DATA_PATH = os.path.join(PATH, 'brain_tumor_dataset')\n",
    "data_dir_list = os.listdir(DATA_PATH)"
   ]
  },
  {
   "cell_type": "code",
   "execution_count": 4,
   "metadata": {},
   "outputs": [
    {
     "name": "stdout",
     "output_type": "stream",
     "text": [
      "['no', 'yes']\n"
     ]
    }
   ],
   "source": [
    "print(data_dir_list)"
   ]
  },
  {
   "cell_type": "code",
   "execution_count": 5,
   "metadata": {},
   "outputs": [
    {
     "name": "stdout",
     "output_type": "stream",
     "text": [
      "Loading images from no folder\n",
      "\n",
      "Loading images from yes folder\n",
      "\n"
     ]
    }
   ],
   "source": [
    "import cv2\n",
    "\n",
    "classes_names_list=[]\n",
    "img_data_list=[]\n",
    "\n",
    "for dataset in data_dir_list:\n",
    "    classes_names_list.append(dataset) \n",
    "    print ('Loading images from {} folder\\n'.format(dataset)) \n",
    "    img_list=os.listdir(DATA_PATH+'/'+ dataset)\n",
    "    for img in img_list:\n",
    "        input_img=cv2.imread(DATA_PATH + '/'+ dataset + '/'+ img )\n",
    "        input_img_resize=cv2.resize(input_img,(224, 224))\n",
    "        (b, g, r)=cv2.split(input_img_resize) \n",
    "        img=cv2.merge([r,g,b])\n",
    "        img_data_list.append(img)"
   ]
  },
  {
   "cell_type": "code",
   "execution_count": 6,
   "metadata": {},
   "outputs": [
    {
     "name": "stdout",
     "output_type": "stream",
     "text": [
      "2\n"
     ]
    }
   ],
   "source": [
    "num_classes = len(classes_names_list)\n",
    "print(num_classes)"
   ]
  },
  {
   "cell_type": "code",
   "execution_count": 7,
   "metadata": {},
   "outputs": [],
   "source": [
    "import numpy as np\n",
    "\n",
    "img_data = np.array(img_data_list)\n",
    "img_data = img_data.astype('float32')\n",
    "img_data /= 255"
   ]
  },
  {
   "cell_type": "code",
   "execution_count": 8,
   "metadata": {},
   "outputs": [
    {
     "name": "stdout",
     "output_type": "stream",
     "text": [
      "(253, 224, 224, 3)\n"
     ]
    }
   ],
   "source": [
    "print (img_data.shape)"
   ]
  },
  {
   "cell_type": "code",
   "execution_count": 9,
   "metadata": {},
   "outputs": [
    {
     "data": {
      "text/plain": [
       "<Figure size 640x480 with 1 Axes>"
      ]
     },
     "metadata": {},
     "output_type": "display_data"
    }
   ],
   "source": [
    "#show one training sample\n",
    "from matplotlib import pyplot as plt\n",
    "plt.imshow(img_data[97])\n",
    "plt.show()"
   ]
  },
  {
   "cell_type": "code",
   "execution_count": 10,
   "metadata": {},
   "outputs": [],
   "source": [
    "num_of_samples = img_data.shape[0]\n",
    "input_shape = img_data[0].shape"
   ]
  },
  {
   "cell_type": "code",
   "execution_count": 11,
   "metadata": {},
   "outputs": [],
   "source": [
    "classes = np.ones((num_of_samples,), dtype='int64')\n",
    "\n",
    "classes[0:98]=0\n",
    "classes[98:]=1"
   ]
  },
  {
   "cell_type": "code",
   "execution_count": 12,
   "metadata": {},
   "outputs": [
    {
     "name": "stderr",
     "output_type": "stream",
     "text": [
      "Using TensorFlow backend.\n"
     ]
    }
   ],
   "source": [
    "from keras.utils import to_categorical\n",
    "\n",
    "classes = to_categorical(classes, num_classes)"
   ]
  },
  {
   "cell_type": "code",
   "execution_count": 13,
   "metadata": {},
   "outputs": [],
   "source": [
    "from sklearn.utils import shuffle\n",
    "\n",
    "X, Y = shuffle(img_data, classes, random_state=456)"
   ]
  },
  {
   "cell_type": "code",
   "execution_count": 14,
   "metadata": {},
   "outputs": [],
   "source": [
    "from sklearn.model_selection import train_test_split\n",
    "\n",
    "X_train, X_test, y_train, y_test = train_test_split(X, Y, test_size=0.2, random_state=456)"
   ]
  },
  {
   "cell_type": "code",
   "execution_count": 15,
   "metadata": {},
   "outputs": [
    {
     "name": "stdout",
     "output_type": "stream",
     "text": [
      "(202, 224, 224, 3) (51, 224, 224, 3)\n",
      "(202, 2) (51, 2)\n"
     ]
    }
   ],
   "source": [
    "# Check the number of images in each dataset split\n",
    "print(X_train.shape, X_test.shape)\n",
    "print(y_train.shape, y_test.shape)"
   ]
  },
  {
   "cell_type": "code",
   "execution_count": 16,
   "metadata": {},
   "outputs": [],
   "source": [
    "from keras.models import Sequential\n",
    "from keras.layers import Dense, Dropout, Flatten\n",
    "from keras.layers import Conv2D, MaxPooling2D"
   ]
  },
  {
   "cell_type": "code",
   "execution_count": 17,
   "metadata": {},
   "outputs": [],
   "source": [
    "#### Build the model\n",
    "model = Sequential()\n",
    "\n",
    "model.add(Conv2D(32, (3, 3),activation='relu', input_shape=input_shape))\n",
    "model.add(Conv2D(32, (3, 3),activation='relu'))\n",
    "model.add(MaxPooling2D(pool_size=(2, 2)))\n",
    "model.add(Dropout(0.2))\n",
    "\n",
    "model.add(Conv2D(64, (3, 3),activation='relu'))\n",
    "model.add(Conv2D(64, (3, 3),activation='relu'))\n",
    "model.add(MaxPooling2D(pool_size=(2, 2)))\n",
    "model.add(Dropout(0.2))\n",
    "\n",
    "model.add(Flatten())\n",
    "model.add(Dense(64, activation='relu'))\n",
    "model.add(Dropout(0.2))\n",
    "model.add(Dense(num_classes, activation='sigmoid'))"
   ]
  },
  {
   "cell_type": "code",
   "execution_count": 18,
   "metadata": {},
   "outputs": [],
   "source": [
    "model.compile(loss='binary_crossentropy', optimizer='adam', metrics=[\"accuracy\"])"
   ]
  },
  {
   "cell_type": "code",
   "execution_count": 19,
   "metadata": {},
   "outputs": [
    {
     "name": "stdout",
     "output_type": "stream",
     "text": [
      "Model: \"sequential_1\"\n",
      "_________________________________________________________________\n",
      "Layer (type)                 Output Shape              Param #   \n",
      "=================================================================\n",
      "conv2d_1 (Conv2D)            (None, 222, 222, 32)      896       \n",
      "_________________________________________________________________\n",
      "conv2d_2 (Conv2D)            (None, 220, 220, 32)      9248      \n",
      "_________________________________________________________________\n",
      "max_pooling2d_1 (MaxPooling2 (None, 110, 110, 32)      0         \n",
      "_________________________________________________________________\n",
      "dropout_1 (Dropout)          (None, 110, 110, 32)      0         \n",
      "_________________________________________________________________\n",
      "conv2d_3 (Conv2D)            (None, 108, 108, 64)      18496     \n",
      "_________________________________________________________________\n",
      "conv2d_4 (Conv2D)            (None, 106, 106, 64)      36928     \n",
      "_________________________________________________________________\n",
      "max_pooling2d_2 (MaxPooling2 (None, 53, 53, 64)        0         \n",
      "_________________________________________________________________\n",
      "dropout_2 (Dropout)          (None, 53, 53, 64)        0         \n",
      "_________________________________________________________________\n",
      "flatten_1 (Flatten)          (None, 179776)            0         \n",
      "_________________________________________________________________\n",
      "dense_1 (Dense)              (None, 64)                11505728  \n",
      "_________________________________________________________________\n",
      "dropout_3 (Dropout)          (None, 64)                0         \n",
      "_________________________________________________________________\n",
      "dense_2 (Dense)              (None, 2)                 130       \n",
      "=================================================================\n",
      "Total params: 11,571,426\n",
      "Trainable params: 11,571,426\n",
      "Non-trainable params: 0\n",
      "_________________________________________________________________\n"
     ]
    }
   ],
   "source": [
    "model.summary()"
   ]
  },
  {
   "cell_type": "code",
   "execution_count": 20,
   "metadata": {},
   "outputs": [
    {
     "name": "stdout",
     "output_type": "stream",
     "text": [
      "Train on 202 samples, validate on 51 samples\n",
      "Epoch 1/20\n",
      "202/202 [==============================] - 19s 92ms/step - loss: 1.0266 - accuracy: 0.6188 - val_loss: 0.6716 - val_accuracy: 0.5980\n",
      "Epoch 2/20\n",
      "202/202 [==============================] - 20s 98ms/step - loss: 0.6060 - accuracy: 0.6386 - val_loss: 0.6428 - val_accuracy: 0.5784\n",
      "Epoch 3/20\n",
      "202/202 [==============================] - 19s 96ms/step - loss: 0.5724 - accuracy: 0.7054 - val_loss: 0.6145 - val_accuracy: 0.8235\n",
      "Epoch 4/20\n",
      "202/202 [==============================] - 19s 93ms/step - loss: 0.5283 - accuracy: 0.7277 - val_loss: 0.5978 - val_accuracy: 0.8039\n",
      "Epoch 5/20\n",
      "202/202 [==============================] - 20s 98ms/step - loss: 0.5237 - accuracy: 0.7500 - val_loss: 0.6082 - val_accuracy: 0.8235\n",
      "Epoch 6/20\n",
      "202/202 [==============================] - 20s 97ms/step - loss: 0.4813 - accuracy: 0.7921 - val_loss: 0.5721 - val_accuracy: 0.8137\n",
      "Epoch 7/20\n",
      "202/202 [==============================] - 20s 99ms/step - loss: 0.4590 - accuracy: 0.7797 - val_loss: 0.5332 - val_accuracy: 0.8333\n",
      "Epoch 8/20\n",
      "202/202 [==============================] - 21s 102ms/step - loss: 0.4009 - accuracy: 0.8193 - val_loss: 0.5257 - val_accuracy: 0.8333\n",
      "Epoch 9/20\n",
      "202/202 [==============================] - 19s 94ms/step - loss: 0.3259 - accuracy: 0.8391 - val_loss: 0.4983 - val_accuracy: 0.8235\n",
      "Epoch 10/20\n",
      "202/202 [==============================] - 20s 98ms/step - loss: 0.2408 - accuracy: 0.8936 - val_loss: 0.5934 - val_accuracy: 0.8333\n",
      "Epoch 11/20\n",
      "202/202 [==============================] - 20s 100ms/step - loss: 0.1666 - accuracy: 0.9233 - val_loss: 0.6513 - val_accuracy: 0.8137\n",
      "Epoch 12/20\n",
      "202/202 [==============================] - 23s 113ms/step - loss: 0.1530 - accuracy: 0.9183 - val_loss: 0.7873 - val_accuracy: 0.8039\n",
      "Epoch 13/20\n",
      "202/202 [==============================] - 21s 104ms/step - loss: 0.0858 - accuracy: 0.9703 - val_loss: 0.8590 - val_accuracy: 0.8333\n",
      "Epoch 14/20\n",
      "202/202 [==============================] - 20s 100ms/step - loss: 0.0808 - accuracy: 0.9604 - val_loss: 1.1141 - val_accuracy: 0.8529\n",
      "Epoch 15/20\n",
      "202/202 [==============================] - 20s 98ms/step - loss: 0.0727 - accuracy: 0.9505 - val_loss: 1.4471 - val_accuracy: 0.8235\n",
      "Epoch 16/20\n",
      "202/202 [==============================] - 20s 101ms/step - loss: 0.0675 - accuracy: 0.9752 - val_loss: 1.2202 - val_accuracy: 0.8529\n",
      "Epoch 17/20\n",
      "202/202 [==============================] - 20s 99ms/step - loss: 0.0585 - accuracy: 0.9802 - val_loss: 0.8357 - val_accuracy: 0.8431\n",
      "Epoch 18/20\n",
      "202/202 [==============================] - 20s 98ms/step - loss: 0.0506 - accuracy: 0.9901 - val_loss: 0.8536 - val_accuracy: 0.8431\n",
      "Epoch 19/20\n",
      "202/202 [==============================] - 19s 94ms/step - loss: 0.0445 - accuracy: 0.9901 - val_loss: 0.9470 - val_accuracy: 0.8431\n",
      "Epoch 20/20\n",
      "202/202 [==============================] - 19s 94ms/step - loss: 0.0509 - accuracy: 0.9827 - val_loss: 1.1284 - val_accuracy: 0.8725\n",
      "Wall time: 6min 38s\n"
     ]
    }
   ],
   "source": [
    "%%time\n",
    "hist = model.fit(X_train, y_train, batch_size=32, epochs=20, verbose=1, validation_data=(X_test, y_test))"
   ]
  },
  {
   "cell_type": "code",
   "execution_count": 21,
   "metadata": {},
   "outputs": [
    {
     "name": "stdout",
     "output_type": "stream",
     "text": [
      "51/51 [==============================] - 1s 25ms/step\n",
      "Test Loss: 1.1283915241559346\n",
      "Test Accuracy: 0.8725489974021912\n"
     ]
    }
   ],
   "source": [
    "score = model.evaluate(X_test, y_test, batch_size=32)\n",
    "\n",
    "print('Test Loss:', score[0])\n",
    "print('Test Accuracy:', score[1])"
   ]
  },
  {
   "cell_type": "code",
   "execution_count": 22,
   "metadata": {},
   "outputs": [],
   "source": [
    "from sklearn.metrics import confusion_matrix\n",
    "\n",
    "Y_pred = model.predict(X_test)"
   ]
  },
  {
   "cell_type": "code",
   "execution_count": 23,
   "metadata": {},
   "outputs": [
    {
     "name": "stdout",
     "output_type": "stream",
     "text": [
      "[1 1 0 0 1 0 0 1 1 0 1 1 0 1 1 0 1 1 0 1 1 1 0 0 1 1 1 1 0 0 1 0 1 1 1 1 1\n",
      " 1 0 0 1 1 0 0 0 1 1 1 1 1 1]\n"
     ]
    }
   ],
   "source": [
    "y_pred = np.argmax(Y_pred, axis=1)\n",
    "print(y_pred)"
   ]
  },
  {
   "cell_type": "code",
   "execution_count": 24,
   "metadata": {},
   "outputs": [
    {
     "name": "stdout",
     "output_type": "stream",
     "text": [
      "[[17  6]\n",
      " [ 1 27]]\n"
     ]
    }
   ],
   "source": [
    "print(confusion_matrix(np.argmax(y_test, axis=1), y_pred))"
   ]
  },
  {
   "cell_type": "markdown",
   "metadata": {},
   "source": [
    "## Data Augementation"
   ]
  },
  {
   "cell_type": "code",
   "execution_count": 25,
   "metadata": {},
   "outputs": [
    {
     "name": "stdout",
     "output_type": "stream",
     "text": [
      "Found 253 images belonging to 2 classes.\n",
      "Found 253 images belonging to 2 classes.\n"
     ]
    }
   ],
   "source": [
    "from keras.preprocessing.image import ImageDataGenerator\n",
    "\n",
    "train_data_gen = ImageDataGenerator(\n",
    "    rotation_range=15,\n",
    "    shear_range=0.1, \n",
    "    zoom_range=0.4, \n",
    "    vertical_flip=True,\n",
    "    brightness_range=[0.5, 1.5],\n",
    "    rescale=1./255,\n",
    "    width_shift_range=0.1,\n",
    "    height_shift_range=0.1,\n",
    "    horizontal_flip=True)\n",
    "\n",
    "test_data_gen = ImageDataGenerator(rescale=1./255)\n",
    "\n",
    "train_generator = train_data_gen.flow_from_directory(\n",
    "        DATA_PATH,\n",
    "        target_size=(224, 224), \n",
    "        batch_size=32,\n",
    "        class_mode='binary',\n",
    "        color_mode='rgb', \n",
    "        shuffle=True,  \n",
    "        save_to_dir='Train_Augmented_Images', \n",
    "        save_prefix='TrainAugmented', \n",
    "        save_format='jpeg')\n",
    "\n",
    "test_generator = test_data_gen.flow_from_directory(\n",
    "        DATA_PATH,\n",
    "        target_size=(224, 224),\n",
    "        batch_size=32,\n",
    "        class_mode='binary',\n",
    "        color_mode='rgb',\n",
    "        shuffle=True, \n",
    "        seed=None, \n",
    "        save_to_dir='Test_Augmented_Images', \n",
    "        save_prefix='TestAugmented', \n",
    "        save_format='jpeg')"
   ]
  },
  {
   "cell_type": "code",
   "execution_count": 26,
   "metadata": {},
   "outputs": [
    {
     "data": {
      "text/plain": [
       "{'no': 0, 'yes': 1}"
      ]
     },
     "execution_count": 26,
     "metadata": {},
     "output_type": "execute_result"
    }
   ],
   "source": [
    "train_generator.class_indices"
   ]
  },
  {
   "cell_type": "code",
   "execution_count": 27,
   "metadata": {},
   "outputs": [
    {
     "data": {
      "text/plain": [
       "{'no': 0, 'yes': 1}"
      ]
     },
     "execution_count": 27,
     "metadata": {},
     "output_type": "execute_result"
    }
   ],
   "source": [
    "test_generator.class_indices"
   ]
  },
  {
   "cell_type": "code",
   "execution_count": 28,
   "metadata": {},
   "outputs": [],
   "source": [
    "#### Build the model\n",
    "model = Sequential()\n",
    "\n",
    "model.add(Conv2D(32, (3, 3),activation='relu', input_shape=input_shape))\n",
    "model.add(Conv2D(32, (3, 3),activation='relu'))\n",
    "model.add(MaxPooling2D(pool_size=(2, 2)))\n",
    "model.add(Dropout(0.2))\n",
    "\n",
    "model.add(Conv2D(64, (3, 3),activation='relu'))\n",
    "model.add(Conv2D(64, (3, 3),activation='relu'))\n",
    "model.add(MaxPooling2D(pool_size=(2, 2)))\n",
    "model.add(Dropout(0.2))\n",
    "\n",
    "model.add(Flatten())\n",
    "model.add(Dense(64, activation='relu'))\n",
    "model.add(Dropout(0.2))\n",
    "model.add(Dense(1, activation='sigmoid'))"
   ]
  },
  {
   "cell_type": "code",
   "execution_count": 29,
   "metadata": {},
   "outputs": [],
   "source": [
    "model.compile(loss='binary_crossentropy', optimizer='adam', metrics=[\"accuracy\"])"
   ]
  },
  {
   "cell_type": "code",
   "execution_count": 30,
   "metadata": {},
   "outputs": [
    {
     "name": "stdout",
     "output_type": "stream",
     "text": [
      "Model: \"sequential_2\"\n",
      "_________________________________________________________________\n",
      "Layer (type)                 Output Shape              Param #   \n",
      "=================================================================\n",
      "conv2d_5 (Conv2D)            (None, 222, 222, 32)      896       \n",
      "_________________________________________________________________\n",
      "conv2d_6 (Conv2D)            (None, 220, 220, 32)      9248      \n",
      "_________________________________________________________________\n",
      "max_pooling2d_3 (MaxPooling2 (None, 110, 110, 32)      0         \n",
      "_________________________________________________________________\n",
      "dropout_4 (Dropout)          (None, 110, 110, 32)      0         \n",
      "_________________________________________________________________\n",
      "conv2d_7 (Conv2D)            (None, 108, 108, 64)      18496     \n",
      "_________________________________________________________________\n",
      "conv2d_8 (Conv2D)            (None, 106, 106, 64)      36928     \n",
      "_________________________________________________________________\n",
      "max_pooling2d_4 (MaxPooling2 (None, 53, 53, 64)        0         \n",
      "_________________________________________________________________\n",
      "dropout_5 (Dropout)          (None, 53, 53, 64)        0         \n",
      "_________________________________________________________________\n",
      "flatten_2 (Flatten)          (None, 179776)            0         \n",
      "_________________________________________________________________\n",
      "dense_3 (Dense)              (None, 64)                11505728  \n",
      "_________________________________________________________________\n",
      "dropout_6 (Dropout)          (None, 64)                0         \n",
      "_________________________________________________________________\n",
      "dense_4 (Dense)              (None, 1)                 65        \n",
      "=================================================================\n",
      "Total params: 11,571,361\n",
      "Trainable params: 11,571,361\n",
      "Non-trainable params: 0\n",
      "_________________________________________________________________\n"
     ]
    }
   ],
   "source": [
    "model.summary()"
   ]
  },
  {
   "cell_type": "code",
   "execution_count": 31,
   "metadata": {},
   "outputs": [
    {
     "name": "stdout",
     "output_type": "stream",
     "text": [
      "Epoch 1/20\n",
      "8/8 [==============================] - 34s 4s/step - loss: 0.9577 - accuracy: 0.5929 - val_loss: 0.6105 - val_accuracy: 0.6126\n",
      "Epoch 2/20\n",
      "8/8 [==============================] - 31s 4s/step - loss: 0.6615 - accuracy: 0.6126 - val_loss: 0.6026 - val_accuracy: 0.6126\n",
      "Epoch 3/20\n",
      "8/8 [==============================] - 31s 4s/step - loss: 0.6616 - accuracy: 0.6206 - val_loss: 0.6585 - val_accuracy: 0.6601\n",
      "Epoch 4/20\n",
      "8/8 [==============================] - 31s 4s/step - loss: 0.6708 - accuracy: 0.6324 - val_loss: 0.6364 - val_accuracy: 0.6166\n",
      "Epoch 5/20\n",
      "8/8 [==============================] - 33s 4s/step - loss: 0.6733 - accuracy: 0.6126 - val_loss: 0.5941 - val_accuracy: 0.6166\n",
      "Epoch 6/20\n",
      "8/8 [==============================] - 34s 4s/step - loss: 0.6698 - accuracy: 0.6443 - val_loss: 0.6564 - val_accuracy: 0.6364\n",
      "Epoch 7/20\n",
      "8/8 [==============================] - 31s 4s/step - loss: 0.6567 - accuracy: 0.6245 - val_loss: 0.4824 - val_accuracy: 0.6126\n",
      "Epoch 8/20\n",
      "8/8 [==============================] - 31s 4s/step - loss: 0.6442 - accuracy: 0.6324 - val_loss: 0.5500 - val_accuracy: 0.6601\n",
      "Epoch 9/20\n",
      "8/8 [==============================] - 31s 4s/step - loss: 0.6367 - accuracy: 0.6443 - val_loss: 0.6115 - val_accuracy: 0.6364\n",
      "Epoch 10/20\n",
      "8/8 [==============================] - 33s 4s/step - loss: 0.6546 - accuracy: 0.6443 - val_loss: 0.5773 - val_accuracy: 0.6957\n",
      "Epoch 11/20\n",
      "8/8 [==============================] - 34s 4s/step - loss: 0.6513 - accuracy: 0.6522 - val_loss: 0.6501 - val_accuracy: 0.6561\n",
      "Epoch 12/20\n",
      "8/8 [==============================] - 32s 4s/step - loss: 0.6494 - accuracy: 0.6838 - val_loss: 0.5999 - val_accuracy: 0.6798\n",
      "Epoch 13/20\n",
      "8/8 [==============================] - 34s 4s/step - loss: 0.6375 - accuracy: 0.6601 - val_loss: 0.6281 - val_accuracy: 0.6482\n",
      "Epoch 14/20\n",
      "8/8 [==============================] - 31s 4s/step - loss: 0.6429 - accuracy: 0.6640 - val_loss: 0.6262 - val_accuracy: 0.6680\n",
      "Epoch 15/20\n",
      "8/8 [==============================] - 33s 4s/step - loss: 0.6274 - accuracy: 0.6838 - val_loss: 0.6194 - val_accuracy: 0.6798\n",
      "Epoch 16/20\n",
      "8/8 [==============================] - 30s 4s/step - loss: 0.6381 - accuracy: 0.6759 - val_loss: 0.5880 - val_accuracy: 0.6719\n",
      "Epoch 17/20\n",
      "8/8 [==============================] - 33s 4s/step - loss: 0.5967 - accuracy: 0.7115 - val_loss: 0.6506 - val_accuracy: 0.6759\n",
      "Epoch 18/20\n",
      "8/8 [==============================] - 35s 4s/step - loss: 0.6124 - accuracy: 0.6877 - val_loss: 0.7279 - val_accuracy: 0.6759\n",
      "Epoch 19/20\n",
      "8/8 [==============================] - 33s 4s/step - loss: 0.6093 - accuracy: 0.6996 - val_loss: 0.6021 - val_accuracy: 0.6798\n",
      "Epoch 20/20\n",
      "8/8 [==============================] - 32s 4s/step - loss: 0.6398 - accuracy: 0.6719 - val_loss: 0.5641 - val_accuracy: 0.6680\n",
      "Wall time: 10min 48s\n"
     ]
    },
    {
     "data": {
      "text/plain": [
       "<keras.callbacks.callbacks.History at 0x1ad4c100a48>"
      ]
     },
     "execution_count": 31,
     "metadata": {},
     "output_type": "execute_result"
    }
   ],
   "source": [
    "%%time\n",
    "model.fit_generator(train_generator, epochs=20, validation_data=test_generator)"
   ]
  },
  {
   "cell_type": "markdown",
   "metadata": {},
   "source": [
    "### TL - VGG16"
   ]
  },
  {
   "cell_type": "code",
   "execution_count": 32,
   "metadata": {},
   "outputs": [],
   "source": [
    "from keras.layers import Input, Dense\n",
    "from keras.models import Model"
   ]
  },
  {
   "cell_type": "code",
   "execution_count": 33,
   "metadata": {},
   "outputs": [],
   "source": [
    "image_input = Input(shape=(224, 224, 3))"
   ]
  },
  {
   "cell_type": "code",
   "execution_count": 34,
   "metadata": {},
   "outputs": [],
   "source": [
    "from keras.applications.vgg16 import VGG16\n",
    "\n",
    "model = VGG16(input_tensor=image_input, include_top=False, weights='imagenet')"
   ]
  },
  {
   "cell_type": "code",
   "execution_count": 35,
   "metadata": {},
   "outputs": [],
   "source": [
    "last_layer = model.get_layer('block5_pool').output\n",
    "x = Flatten(name='flatten')(last_layer)\n",
    "x = Dense(128, activation='relu', name='fc1')(x)\n",
    "x = Dense(128, activation='relu', name='fc2')(x)\n",
    "out = Dense(num_classes, activation='softmax', name='output')(x)\n",
    "custom_vgg_model = Model(image_input, out)"
   ]
  },
  {
   "cell_type": "code",
   "execution_count": 36,
   "metadata": {},
   "outputs": [
    {
     "name": "stdout",
     "output_type": "stream",
     "text": [
      "Model: \"model_1\"\n",
      "_________________________________________________________________\n",
      "Layer (type)                 Output Shape              Param #   \n",
      "=================================================================\n",
      "input_1 (InputLayer)         (None, 224, 224, 3)       0         \n",
      "_________________________________________________________________\n",
      "block1_conv1 (Conv2D)        (None, 224, 224, 64)      1792      \n",
      "_________________________________________________________________\n",
      "block1_conv2 (Conv2D)        (None, 224, 224, 64)      36928     \n",
      "_________________________________________________________________\n",
      "block1_pool (MaxPooling2D)   (None, 112, 112, 64)      0         \n",
      "_________________________________________________________________\n",
      "block2_conv1 (Conv2D)        (None, 112, 112, 128)     73856     \n",
      "_________________________________________________________________\n",
      "block2_conv2 (Conv2D)        (None, 112, 112, 128)     147584    \n",
      "_________________________________________________________________\n",
      "block2_pool (MaxPooling2D)   (None, 56, 56, 128)       0         \n",
      "_________________________________________________________________\n",
      "block3_conv1 (Conv2D)        (None, 56, 56, 256)       295168    \n",
      "_________________________________________________________________\n",
      "block3_conv2 (Conv2D)        (None, 56, 56, 256)       590080    \n",
      "_________________________________________________________________\n",
      "block3_conv3 (Conv2D)        (None, 56, 56, 256)       590080    \n",
      "_________________________________________________________________\n",
      "block3_pool (MaxPooling2D)   (None, 28, 28, 256)       0         \n",
      "_________________________________________________________________\n",
      "block4_conv1 (Conv2D)        (None, 28, 28, 512)       1180160   \n",
      "_________________________________________________________________\n",
      "block4_conv2 (Conv2D)        (None, 28, 28, 512)       2359808   \n",
      "_________________________________________________________________\n",
      "block4_conv3 (Conv2D)        (None, 28, 28, 512)       2359808   \n",
      "_________________________________________________________________\n",
      "block4_pool (MaxPooling2D)   (None, 14, 14, 512)       0         \n",
      "_________________________________________________________________\n",
      "block5_conv1 (Conv2D)        (None, 14, 14, 512)       2359808   \n",
      "_________________________________________________________________\n",
      "block5_conv2 (Conv2D)        (None, 14, 14, 512)       2359808   \n",
      "_________________________________________________________________\n",
      "block5_conv3 (Conv2D)        (None, 14, 14, 512)       2359808   \n",
      "_________________________________________________________________\n",
      "block5_pool (MaxPooling2D)   (None, 7, 7, 512)         0         \n",
      "_________________________________________________________________\n",
      "flatten (Flatten)            (None, 25088)             0         \n",
      "_________________________________________________________________\n",
      "fc1 (Dense)                  (None, 128)               3211392   \n",
      "_________________________________________________________________\n",
      "fc2 (Dense)                  (None, 128)               16512     \n",
      "_________________________________________________________________\n",
      "output (Dense)               (None, 2)                 258       \n",
      "=================================================================\n",
      "Total params: 17,942,850\n",
      "Trainable params: 17,942,850\n",
      "Non-trainable params: 0\n",
      "_________________________________________________________________\n"
     ]
    }
   ],
   "source": [
    "custom_vgg_model.summary()"
   ]
  },
  {
   "cell_type": "code",
   "execution_count": 37,
   "metadata": {},
   "outputs": [],
   "source": [
    "# freeze all the layers except the dense layers\n",
    "for layer in custom_vgg_model.layers[:-3]:\n",
    "    layer.trainable = False"
   ]
  },
  {
   "cell_type": "code",
   "execution_count": 38,
   "metadata": {},
   "outputs": [
    {
     "name": "stdout",
     "output_type": "stream",
     "text": [
      "Model: \"model_1\"\n",
      "_________________________________________________________________\n",
      "Layer (type)                 Output Shape              Param #   \n",
      "=================================================================\n",
      "input_1 (InputLayer)         (None, 224, 224, 3)       0         \n",
      "_________________________________________________________________\n",
      "block1_conv1 (Conv2D)        (None, 224, 224, 64)      1792      \n",
      "_________________________________________________________________\n",
      "block1_conv2 (Conv2D)        (None, 224, 224, 64)      36928     \n",
      "_________________________________________________________________\n",
      "block1_pool (MaxPooling2D)   (None, 112, 112, 64)      0         \n",
      "_________________________________________________________________\n",
      "block2_conv1 (Conv2D)        (None, 112, 112, 128)     73856     \n",
      "_________________________________________________________________\n",
      "block2_conv2 (Conv2D)        (None, 112, 112, 128)     147584    \n",
      "_________________________________________________________________\n",
      "block2_pool (MaxPooling2D)   (None, 56, 56, 128)       0         \n",
      "_________________________________________________________________\n",
      "block3_conv1 (Conv2D)        (None, 56, 56, 256)       295168    \n",
      "_________________________________________________________________\n",
      "block3_conv2 (Conv2D)        (None, 56, 56, 256)       590080    \n",
      "_________________________________________________________________\n",
      "block3_conv3 (Conv2D)        (None, 56, 56, 256)       590080    \n",
      "_________________________________________________________________\n",
      "block3_pool (MaxPooling2D)   (None, 28, 28, 256)       0         \n",
      "_________________________________________________________________\n",
      "block4_conv1 (Conv2D)        (None, 28, 28, 512)       1180160   \n",
      "_________________________________________________________________\n",
      "block4_conv2 (Conv2D)        (None, 28, 28, 512)       2359808   \n",
      "_________________________________________________________________\n",
      "block4_conv3 (Conv2D)        (None, 28, 28, 512)       2359808   \n",
      "_________________________________________________________________\n",
      "block4_pool (MaxPooling2D)   (None, 14, 14, 512)       0         \n",
      "_________________________________________________________________\n",
      "block5_conv1 (Conv2D)        (None, 14, 14, 512)       2359808   \n",
      "_________________________________________________________________\n",
      "block5_conv2 (Conv2D)        (None, 14, 14, 512)       2359808   \n",
      "_________________________________________________________________\n",
      "block5_conv3 (Conv2D)        (None, 14, 14, 512)       2359808   \n",
      "_________________________________________________________________\n",
      "block5_pool (MaxPooling2D)   (None, 7, 7, 512)         0         \n",
      "_________________________________________________________________\n",
      "flatten (Flatten)            (None, 25088)             0         \n",
      "_________________________________________________________________\n",
      "fc1 (Dense)                  (None, 128)               3211392   \n",
      "_________________________________________________________________\n",
      "fc2 (Dense)                  (None, 128)               16512     \n",
      "_________________________________________________________________\n",
      "output (Dense)               (None, 2)                 258       \n",
      "=================================================================\n",
      "Total params: 17,942,850\n",
      "Trainable params: 3,228,162\n",
      "Non-trainable params: 14,714,688\n",
      "_________________________________________________________________\n"
     ]
    }
   ],
   "source": [
    "custom_vgg_model.summary()"
   ]
  },
  {
   "cell_type": "code",
   "execution_count": 39,
   "metadata": {},
   "outputs": [],
   "source": [
    "custom_vgg_model.compile(loss='binary_crossentropy', optimizer='adadelta', metrics=['accuracy'])"
   ]
  },
  {
   "cell_type": "code",
   "execution_count": 40,
   "metadata": {},
   "outputs": [
    {
     "name": "stdout",
     "output_type": "stream",
     "text": [
      "Train on 202 samples, validate on 51 samples\n",
      "Epoch 1/20\n",
      "202/202 [==============================] - 51s 254ms/step - loss: 4.0484 - accuracy: 0.5693 - val_loss: 0.7872 - val_accuracy: 0.4510\n",
      "Epoch 2/20\n",
      "202/202 [==============================] - 55s 273ms/step - loss: 1.2319 - accuracy: 0.4901 - val_loss: 0.6770 - val_accuracy: 0.4314\n",
      "Epoch 3/20\n",
      "202/202 [==============================] - 52s 257ms/step - loss: 0.8291 - accuracy: 0.6089 - val_loss: 0.4768 - val_accuracy: 0.8039\n",
      "Epoch 4/20\n",
      "202/202 [==============================] - 53s 263ms/step - loss: 0.5067 - accuracy: 0.8069 - val_loss: 0.7264 - val_accuracy: 0.6667\n",
      "Epoch 5/20\n",
      "202/202 [==============================] - 52s 260ms/step - loss: 0.5261 - accuracy: 0.7327 - val_loss: 0.4677 - val_accuracy: 0.8627\n",
      "Epoch 6/20\n",
      "202/202 [==============================] - 51s 253ms/step - loss: 0.4548 - accuracy: 0.7970 - val_loss: 0.5919 - val_accuracy: 0.7647\n",
      "Epoch 7/20\n",
      "202/202 [==============================] - 52s 256ms/step - loss: 0.4371 - accuracy: 0.8020 - val_loss: 0.5872 - val_accuracy: 0.7255\n",
      "Epoch 8/20\n",
      "202/202 [==============================] - 53s 265ms/step - loss: 0.3921 - accuracy: 0.8218 - val_loss: 0.5150 - val_accuracy: 0.7255\n",
      "Epoch 9/20\n",
      "202/202 [==============================] - 54s 268ms/step - loss: 0.3250 - accuracy: 0.8564 - val_loss: 0.8642 - val_accuracy: 0.5098\n",
      "Epoch 10/20\n",
      "202/202 [==============================] - 53s 261ms/step - loss: 0.4499 - accuracy: 0.7970 - val_loss: 0.5121 - val_accuracy: 0.6667\n",
      "Epoch 11/20\n",
      "202/202 [==============================] - 55s 272ms/step - loss: 0.3730 - accuracy: 0.8020 - val_loss: 0.6683 - val_accuracy: 0.5686\n",
      "Epoch 12/20\n",
      "202/202 [==============================] - 51s 252ms/step - loss: 0.4029 - accuracy: 0.8366 - val_loss: 0.3798 - val_accuracy: 0.8627\n",
      "Epoch 13/20\n",
      "202/202 [==============================] - 55s 272ms/step - loss: 0.3174 - accuracy: 0.8515 - val_loss: 0.3983 - val_accuracy: 0.7843\n",
      "Epoch 14/20\n",
      "202/202 [==============================] - 54s 267ms/step - loss: 0.2256 - accuracy: 0.9208 - val_loss: 0.3681 - val_accuracy: 0.8627\n",
      "Epoch 15/20\n",
      "202/202 [==============================] - 50s 250ms/step - loss: 0.1891 - accuracy: 0.9307 - val_loss: 1.1049 - val_accuracy: 0.4902\n",
      "Epoch 16/20\n",
      "202/202 [==============================] - 52s 258ms/step - loss: 0.4332 - accuracy: 0.8416 - val_loss: 0.2635 - val_accuracy: 0.9216\n",
      "Epoch 17/20\n",
      "202/202 [==============================] - 56s 279ms/step - loss: 0.1169 - accuracy: 0.9752 - val_loss: 0.3061 - val_accuracy: 0.9020\n",
      "Epoch 18/20\n",
      "202/202 [==============================] - 54s 269ms/step - loss: 0.0925 - accuracy: 0.9752 - val_loss: 2.1063 - val_accuracy: 0.5686\n",
      "Epoch 19/20\n",
      "202/202 [==============================] - 53s 264ms/step - loss: 0.4494 - accuracy: 0.8416 - val_loss: 0.2308 - val_accuracy: 0.9216\n",
      "Epoch 20/20\n",
      "202/202 [==============================] - 53s 261ms/step - loss: 0.1310 - accuracy: 0.9505 - val_loss: 0.2806 - val_accuracy: 0.9216\n",
      "Wall time: 17min 41s\n"
     ]
    }
   ],
   "source": [
    "%%time\n",
    "hist = custom_vgg_model.fit(X_train, y_train, batch_size=32, epochs=20, verbose=1, validation_data=(X_test, y_test))"
   ]
  },
  {
   "cell_type": "code",
   "execution_count": 41,
   "metadata": {},
   "outputs": [
    {
     "name": "stdout",
     "output_type": "stream",
     "text": [
      "51/51 [==============================] - 12s 239ms/step\n",
      "[INFO] loss=0.2806, accuracy: 92.1569%\n"
     ]
    }
   ],
   "source": [
    "(loss, accuracy) = custom_vgg_model.evaluate(X_test, y_test, batch_size=32, verbose=1)\n",
    "\n",
    "print(\"[INFO] loss={:.4f}, accuracy: {:.4f}%\".format(loss,accuracy * 100))"
   ]
  },
  {
   "cell_type": "code",
   "execution_count": 42,
   "metadata": {},
   "outputs": [],
   "source": [
    "Y_train_pred = custom_vgg_model.predict(X_test)"
   ]
  },
  {
   "cell_type": "code",
   "execution_count": 43,
   "metadata": {},
   "outputs": [
    {
     "name": "stdout",
     "output_type": "stream",
     "text": [
      "[1 1 0 1 1 0 0 1 1 0 1 1 0 1 0 0 1 1 0 1 1 1 0 1 1 1 1 1 0 0 1 0 1 1 1 1 1\n",
      " 1 0 0 1 1 0 0 0 0 1 1 0 1 1]\n"
     ]
    }
   ],
   "source": [
    "y_train_pred = np.argmax(Y_train_pred, axis=1)\n",
    "print(y_train_pred)"
   ]
  },
  {
   "cell_type": "code",
   "execution_count": 44,
   "metadata": {},
   "outputs": [
    {
     "name": "stdout",
     "output_type": "stream",
     "text": [
      "[[19  4]\n",
      " [ 0 28]]\n"
     ]
    }
   ],
   "source": [
    "print(confusion_matrix(np.argmax(y_test, axis=1), y_train_pred))"
   ]
  },
  {
   "cell_type": "markdown",
   "metadata": {},
   "source": [
    "# Conclusion\n",
    "Compare to all models VGG gives best output"
   ]
  },
  {
   "cell_type": "code",
   "execution_count": null,
   "metadata": {},
   "outputs": [],
   "source": []
  }
 ],
 "metadata": {
  "kernelspec": {
   "display_name": "Python 3",
   "language": "python",
   "name": "python3"
  },
  "language_info": {
   "codemirror_mode": {
    "name": "ipython",
    "version": 3
   },
   "file_extension": ".py",
   "mimetype": "text/x-python",
   "name": "python",
   "nbconvert_exporter": "python",
   "pygments_lexer": "ipython3",
   "version": "3.7.4"
  }
 },
 "nbformat": 4,
 "nbformat_minor": 2
}
